{
 "cells": [
  {
   "cell_type": "code",
   "execution_count": 1,
   "id": "09ebd04c",
   "metadata": {
    "collapsed": true
   },
   "outputs": [],
   "source": [
    "import numpy as np\n",
    "import pandas as pd\n",
    "import matplotlib.pyplot as plt"
   ]
  },
  {
   "cell_type": "code",
   "execution_count": 2,
   "id": "20c12e64",
   "metadata": {
    "collapsed": true
   },
   "outputs": [],
   "source": [
    "#Read .csv file..\n",
    "nyc=pd.read_csv('311_Service_Requests_from_2010_to_Present.csv',low_memory=False)"
   ]
  },
  {
   "cell_type": "code",
   "execution_count": 3,
   "id": "91cfa781",
   "metadata": {
    "collapsed": true
   },
   "outputs": [
    {
     "name": "stdout",
     "output_type": "stream",
     "text": [
      "<class 'pandas.core.frame.DataFrame'>\n",
      "RangeIndex: 300698 entries, 0 to 300697\n",
      "Data columns (total 53 columns):\n",
      " #   Column                          Non-Null Count   Dtype  \n",
      "---  ------                          --------------   -----  \n",
      " 0   Unique Key                      300698 non-null  int64  \n",
      " 1   Created Date                    300698 non-null  object \n",
      " 2   Closed Date                     298534 non-null  object \n",
      " 3   Agency                          300698 non-null  object \n",
      " 4   Agency Name                     300698 non-null  object \n",
      " 5   Complaint Type                  300698 non-null  object \n",
      " 6   Descriptor                      294784 non-null  object \n",
      " 7   Location Type                   300567 non-null  object \n",
      " 8   Incident Zip                    298083 non-null  float64\n",
      " 9   Incident Address                256288 non-null  object \n",
      " 10  Street Name                     256288 non-null  object \n",
      " 11  Cross Street 1                  251419 non-null  object \n",
      " 12  Cross Street 2                  250919 non-null  object \n",
      " 13  Intersection Street 1           43858 non-null   object \n",
      " 14  Intersection Street 2           43362 non-null   object \n",
      " 15  Address Type                    297883 non-null  object \n",
      " 16  City                            298084 non-null  object \n",
      " 17  Landmark                        349 non-null     object \n",
      " 18  Facility Type                   298527 non-null  object \n",
      " 19  Status                          300698 non-null  object \n",
      " 20  Due Date                        300695 non-null  object \n",
      " 21  Resolution Description          300698 non-null  object \n",
      " 22  Resolution Action Updated Date  298511 non-null  object \n",
      " 23  Community Board                 300698 non-null  object \n",
      " 24  Borough                         300698 non-null  object \n",
      " 25  X Coordinate (State Plane)      297158 non-null  float64\n",
      " 26  Y Coordinate (State Plane)      297158 non-null  float64\n",
      " 27  Park Facility Name              300698 non-null  object \n",
      " 28  Park Borough                    300698 non-null  object \n",
      " 29  School Name                     300698 non-null  object \n",
      " 30  School Number                   300698 non-null  object \n",
      " 31  School Region                   300697 non-null  object \n",
      " 32  School Code                     300697 non-null  object \n",
      " 33  School Phone Number             300698 non-null  object \n",
      " 34  School Address                  300698 non-null  object \n",
      " 35  School City                     300698 non-null  object \n",
      " 36  School State                    300698 non-null  object \n",
      " 37  School Zip                      300697 non-null  object \n",
      " 38  School Not Found                300698 non-null  object \n",
      " 39  School or Citywide Complaint    0 non-null       float64\n",
      " 40  Vehicle Type                    0 non-null       float64\n",
      " 41  Taxi Company Borough            0 non-null       float64\n",
      " 42  Taxi Pick Up Location           0 non-null       float64\n",
      " 43  Bridge Highway Name             243 non-null     object \n",
      " 44  Bridge Highway Direction        243 non-null     object \n",
      " 45  Road Ramp                       213 non-null     object \n",
      " 46  Bridge Highway Segment          213 non-null     object \n",
      " 47  Garage Lot Name                 0 non-null       float64\n",
      " 48  Ferry Direction                 1 non-null       object \n",
      " 49  Ferry Terminal Name             2 non-null       object \n",
      " 50  Latitude                        297158 non-null  float64\n",
      " 51  Longitude                       297158 non-null  float64\n",
      " 52  Location                        297158 non-null  object \n",
      "dtypes: float64(10), int64(1), object(42)\n",
      "memory usage: 121.6+ MB\n"
     ]
    }
   ],
   "source": [
    "nyc.info()"
   ]
  },
  {
   "cell_type": "code",
   "execution_count": 4,
   "id": "73182676",
   "metadata": {
    "collapsed": true
   },
   "outputs": [],
   "source": [
    "#dropping list of unwanted columns in data frame.\n",
    "nyc=nyc.drop(columns=['Landmark','Vehicle Type','Taxi Company Borough','Taxi Pick Up Location','Bridge Highway Name','Bridge Highway Direction','Road Ramp','Bridge Highway Segment','Garage Lot Name','Ferry Direction','Ferry Terminal Name'],axis=1)"
   ]
  },
  {
   "cell_type": "code",
   "execution_count": 5,
   "id": "f6af3c75",
   "metadata": {
    "collapsed": true
   },
   "outputs": [
    {
     "data": {
      "text/html": [
       "<div>\n",
       "<style scoped>\n",
       "    .dataframe tbody tr th:only-of-type {\n",
       "        vertical-align: middle;\n",
       "    }\n",
       "\n",
       "    .dataframe tbody tr th {\n",
       "        vertical-align: top;\n",
       "    }\n",
       "\n",
       "    .dataframe thead th {\n",
       "        text-align: right;\n",
       "    }\n",
       "</style>\n",
       "<table border=\"1\" class=\"dataframe\">\n",
       "  <thead>\n",
       "    <tr style=\"text-align: right;\">\n",
       "      <th></th>\n",
       "      <th>Unique Key</th>\n",
       "      <th>Created Date</th>\n",
       "      <th>Closed Date</th>\n",
       "      <th>Agency</th>\n",
       "      <th>Agency Name</th>\n",
       "      <th>Complaint Type</th>\n",
       "      <th>Descriptor</th>\n",
       "      <th>Location Type</th>\n",
       "      <th>Incident Zip</th>\n",
       "      <th>Incident Address</th>\n",
       "      <th>...</th>\n",
       "      <th>School Phone Number</th>\n",
       "      <th>School Address</th>\n",
       "      <th>School City</th>\n",
       "      <th>School State</th>\n",
       "      <th>School Zip</th>\n",
       "      <th>School Not Found</th>\n",
       "      <th>School or Citywide Complaint</th>\n",
       "      <th>Latitude</th>\n",
       "      <th>Longitude</th>\n",
       "      <th>Location</th>\n",
       "    </tr>\n",
       "  </thead>\n",
       "  <tbody>\n",
       "    <tr>\n",
       "      <th>0</th>\n",
       "      <td>32310363</td>\n",
       "      <td>12/31/2015 11:59:45 PM</td>\n",
       "      <td>01-01-16 0:55</td>\n",
       "      <td>NYPD</td>\n",
       "      <td>New York City Police Department</td>\n",
       "      <td>Noise - Street/Sidewalk</td>\n",
       "      <td>Loud Music/Party</td>\n",
       "      <td>Street/Sidewalk</td>\n",
       "      <td>10034.0</td>\n",
       "      <td>71 VERMILYEA AVENUE</td>\n",
       "      <td>...</td>\n",
       "      <td>Unspecified</td>\n",
       "      <td>Unspecified</td>\n",
       "      <td>Unspecified</td>\n",
       "      <td>Unspecified</td>\n",
       "      <td>Unspecified</td>\n",
       "      <td>N</td>\n",
       "      <td>NaN</td>\n",
       "      <td>40.865682</td>\n",
       "      <td>-73.923501</td>\n",
       "      <td>(40.86568153633767, -73.92350095571744)</td>\n",
       "    </tr>\n",
       "    <tr>\n",
       "      <th>1</th>\n",
       "      <td>32309934</td>\n",
       "      <td>12/31/2015 11:59:44 PM</td>\n",
       "      <td>01-01-16 1:26</td>\n",
       "      <td>NYPD</td>\n",
       "      <td>New York City Police Department</td>\n",
       "      <td>Blocked Driveway</td>\n",
       "      <td>No Access</td>\n",
       "      <td>Street/Sidewalk</td>\n",
       "      <td>11105.0</td>\n",
       "      <td>27-07 23 AVENUE</td>\n",
       "      <td>...</td>\n",
       "      <td>Unspecified</td>\n",
       "      <td>Unspecified</td>\n",
       "      <td>Unspecified</td>\n",
       "      <td>Unspecified</td>\n",
       "      <td>Unspecified</td>\n",
       "      <td>N</td>\n",
       "      <td>NaN</td>\n",
       "      <td>40.775945</td>\n",
       "      <td>-73.915094</td>\n",
       "      <td>(40.775945312321085, -73.91509393898605)</td>\n",
       "    </tr>\n",
       "    <tr>\n",
       "      <th>2</th>\n",
       "      <td>32309159</td>\n",
       "      <td>12/31/2015 11:59:29 PM</td>\n",
       "      <td>01-01-16 4:51</td>\n",
       "      <td>NYPD</td>\n",
       "      <td>New York City Police Department</td>\n",
       "      <td>Blocked Driveway</td>\n",
       "      <td>No Access</td>\n",
       "      <td>Street/Sidewalk</td>\n",
       "      <td>10458.0</td>\n",
       "      <td>2897 VALENTINE AVENUE</td>\n",
       "      <td>...</td>\n",
       "      <td>Unspecified</td>\n",
       "      <td>Unspecified</td>\n",
       "      <td>Unspecified</td>\n",
       "      <td>Unspecified</td>\n",
       "      <td>Unspecified</td>\n",
       "      <td>N</td>\n",
       "      <td>NaN</td>\n",
       "      <td>40.870325</td>\n",
       "      <td>-73.888525</td>\n",
       "      <td>(40.870324522111424, -73.88852464418646)</td>\n",
       "    </tr>\n",
       "    <tr>\n",
       "      <th>3</th>\n",
       "      <td>32305098</td>\n",
       "      <td>12/31/2015 11:57:46 PM</td>\n",
       "      <td>01-01-16 7:43</td>\n",
       "      <td>NYPD</td>\n",
       "      <td>New York City Police Department</td>\n",
       "      <td>Illegal Parking</td>\n",
       "      <td>Commercial Overnight Parking</td>\n",
       "      <td>Street/Sidewalk</td>\n",
       "      <td>10461.0</td>\n",
       "      <td>2940 BAISLEY AVENUE</td>\n",
       "      <td>...</td>\n",
       "      <td>Unspecified</td>\n",
       "      <td>Unspecified</td>\n",
       "      <td>Unspecified</td>\n",
       "      <td>Unspecified</td>\n",
       "      <td>Unspecified</td>\n",
       "      <td>N</td>\n",
       "      <td>NaN</td>\n",
       "      <td>40.835994</td>\n",
       "      <td>-73.828379</td>\n",
       "      <td>(40.83599404683083, -73.82837939584206)</td>\n",
       "    </tr>\n",
       "    <tr>\n",
       "      <th>4</th>\n",
       "      <td>32306529</td>\n",
       "      <td>12/31/2015 11:56:58 PM</td>\n",
       "      <td>01-01-16 3:24</td>\n",
       "      <td>NYPD</td>\n",
       "      <td>New York City Police Department</td>\n",
       "      <td>Illegal Parking</td>\n",
       "      <td>Blocked Sidewalk</td>\n",
       "      <td>Street/Sidewalk</td>\n",
       "      <td>11373.0</td>\n",
       "      <td>87-14 57 ROAD</td>\n",
       "      <td>...</td>\n",
       "      <td>Unspecified</td>\n",
       "      <td>Unspecified</td>\n",
       "      <td>Unspecified</td>\n",
       "      <td>Unspecified</td>\n",
       "      <td>Unspecified</td>\n",
       "      <td>N</td>\n",
       "      <td>NaN</td>\n",
       "      <td>40.733060</td>\n",
       "      <td>-73.874170</td>\n",
       "      <td>(40.733059618956815, -73.87416975810375)</td>\n",
       "    </tr>\n",
       "  </tbody>\n",
       "</table>\n",
       "<p>5 rows × 42 columns</p>\n",
       "</div>"
      ],
      "text/plain": [
       "   Unique Key            Created Date    Closed Date Agency  \\\n",
       "0    32310363  12/31/2015 11:59:45 PM  01-01-16 0:55   NYPD   \n",
       "1    32309934  12/31/2015 11:59:44 PM  01-01-16 1:26   NYPD   \n",
       "2    32309159  12/31/2015 11:59:29 PM  01-01-16 4:51   NYPD   \n",
       "3    32305098  12/31/2015 11:57:46 PM  01-01-16 7:43   NYPD   \n",
       "4    32306529  12/31/2015 11:56:58 PM  01-01-16 3:24   NYPD   \n",
       "\n",
       "                       Agency Name           Complaint Type  \\\n",
       "0  New York City Police Department  Noise - Street/Sidewalk   \n",
       "1  New York City Police Department         Blocked Driveway   \n",
       "2  New York City Police Department         Blocked Driveway   \n",
       "3  New York City Police Department          Illegal Parking   \n",
       "4  New York City Police Department          Illegal Parking   \n",
       "\n",
       "                     Descriptor    Location Type  Incident Zip  \\\n",
       "0              Loud Music/Party  Street/Sidewalk       10034.0   \n",
       "1                     No Access  Street/Sidewalk       11105.0   \n",
       "2                     No Access  Street/Sidewalk       10458.0   \n",
       "3  Commercial Overnight Parking  Street/Sidewalk       10461.0   \n",
       "4              Blocked Sidewalk  Street/Sidewalk       11373.0   \n",
       "\n",
       "        Incident Address  ... School Phone Number School Address  School City  \\\n",
       "0    71 VERMILYEA AVENUE  ...         Unspecified    Unspecified  Unspecified   \n",
       "1        27-07 23 AVENUE  ...         Unspecified    Unspecified  Unspecified   \n",
       "2  2897 VALENTINE AVENUE  ...         Unspecified    Unspecified  Unspecified   \n",
       "3    2940 BAISLEY AVENUE  ...         Unspecified    Unspecified  Unspecified   \n",
       "4          87-14 57 ROAD  ...         Unspecified    Unspecified  Unspecified   \n",
       "\n",
       "  School State   School Zip School Not Found School or Citywide Complaint  \\\n",
       "0  Unspecified  Unspecified                N                          NaN   \n",
       "1  Unspecified  Unspecified                N                          NaN   \n",
       "2  Unspecified  Unspecified                N                          NaN   \n",
       "3  Unspecified  Unspecified                N                          NaN   \n",
       "4  Unspecified  Unspecified                N                          NaN   \n",
       "\n",
       "    Latitude  Longitude                                  Location  \n",
       "0  40.865682 -73.923501   (40.86568153633767, -73.92350095571744)  \n",
       "1  40.775945 -73.915094  (40.775945312321085, -73.91509393898605)  \n",
       "2  40.870325 -73.888525  (40.870324522111424, -73.88852464418646)  \n",
       "3  40.835994 -73.828379   (40.83599404683083, -73.82837939584206)  \n",
       "4  40.733060 -73.874170  (40.733059618956815, -73.87416975810375)  \n",
       "\n",
       "[5 rows x 42 columns]"
      ]
     },
     "execution_count": 5,
     "metadata": {},
     "output_type": "execute_result"
    }
   ],
   "source": [
    "nyc.head()"
   ]
  },
  {
   "cell_type": "code",
   "execution_count": 6,
   "id": "e1692f1f",
   "metadata": {
    "collapsed": true
   },
   "outputs": [
    {
     "data": {
      "text/plain": [
       "dtype('O')"
      ]
     },
     "execution_count": 6,
     "metadata": {},
     "output_type": "execute_result"
    }
   ],
   "source": [
    "#checking type of date column\n",
    "nyc['Created Date'].dtype\n",
    "nyc['Closed Date'].dtype"
   ]
  },
  {
   "cell_type": "code",
   "execution_count": 7,
   "id": "4980c861",
   "metadata": {
    "collapsed": true
   },
   "outputs": [],
   "source": [
    "#Changing 'Created date' and 'closed date' column type from object to datetime64 type..\n",
    "\n",
    "nyc['Closed Date']=pd.to_datetime(nyc['Closed Date'])\n",
    "nyc['Created Date']=pd.to_datetime(nyc['Created Date'])\n"
   ]
  },
  {
   "cell_type": "code",
   "execution_count": 8,
   "id": "d4b17bb5",
   "metadata": {
    "collapsed": true
   },
   "outputs": [
    {
     "name": "stdout",
     "output_type": "stream",
     "text": [
      "Unspecified                                     300697\n",
      "Grand Central Parkway, near the soccer field         1\n",
      "Name: School Address, dtype: int64\n",
      "Unspecified    300697\n",
      "QUEENS              1\n",
      "Name: School City, dtype: int64\n",
      "Unspecified    300697\n",
      "Name: School Code, dtype: int64\n",
      "Unspecified    300697\n",
      "NY                  1\n",
      "Name: School State, dtype: int64\n"
     ]
    }
   ],
   "source": [
    "print(nyc['School Address'].value_counts())\n",
    "print(nyc['School City'].value_counts())\n",
    "print(nyc['School Code'].value_counts())\n",
    "print(nyc['School State'].value_counts())\n",
    "\n",
    "\n",
    "\n"
   ]
  },
  {
   "cell_type": "code",
   "execution_count": 9,
   "id": "cc3b0ee4",
   "metadata": {
    "collapsed": true
   },
   "outputs": [],
   "source": [
    "#Dropping columns having most unspecified values..\n",
    "nyc=nyc.drop(columns=['School Address','School City','School Code','School State'],axis=1)"
   ]
  },
  {
   "cell_type": "code",
   "execution_count": 10,
   "id": "c91e5262",
   "metadata": {
    "collapsed": true
   },
   "outputs": [],
   "source": [
    "nyc=nyc.drop(columns=['School Number','School Region','School Phone Number','School Zip','School Not Found','School or Citywide Complaint'],axis=1)"
   ]
  },
  {
   "cell_type": "code",
   "execution_count": 11,
   "id": "07a589da",
   "metadata": {
    "collapsed": true
   },
   "outputs": [],
   "source": [
    "diff=(nyc['Closed Date'][i]-nyc['Created Date'][i] for i in range(0,nyc['Closed Date'].count()))\n",
    "    \n"
   ]
  },
  {
   "cell_type": "code",
   "execution_count": 12,
   "id": "1fbb53e6",
   "metadata": {
    "collapsed": true
   },
   "outputs": [],
   "source": [
    "nyc['Request_Closing_Time']=pd.DataFrame(diff)"
   ]
  },
  {
   "cell_type": "code",
   "execution_count": 13,
   "id": "54faa31a",
   "metadata": {
    "collapsed": true
   },
   "outputs": [],
   "source": [
    "p=[]"
   ]
  },
  {
   "cell_type": "code",
   "execution_count": 14,
   "id": "4877cb2b",
   "metadata": {
    "collapsed": true
   },
   "outputs": [],
   "source": [
    "for i in range(0,nyc['Request_Closing_Time'].count()):\n",
    "    s=(nyc['Request_Closing_Time'][i].seconds)/60\n",
    "    p.append(s)\n",
    "              \n"
   ]
  },
  {
   "cell_type": "code",
   "execution_count": 15,
   "id": "d5327c7c",
   "metadata": {
    "collapsed": true
   },
   "outputs": [],
   "source": [
    "nyc['Request_Closing_Time']=pd.DataFrame(p)\n"
   ]
  },
  {
   "cell_type": "code",
   "execution_count": 35,
   "id": "eb96b38d",
   "metadata": {
    "collapsed": true
   },
   "outputs": [
    {
     "data": {
      "text/plain": [
       "City      Complaint Type         \n",
       "ARVERNE   Animal Abuse               129.217544\n",
       "          Blocked Driveway           151.558095\n",
       "          Derelict Vehicle           178.093210\n",
       "          Disorderly Youth           215.475000\n",
       "          Drinking                    14.316667\n",
       "                                        ...    \n",
       "Woodside  Blocked Driveway           384.372727\n",
       "          Derelict Vehicle           298.000000\n",
       "          Illegal Parking            300.178866\n",
       "          Noise - Commercial         143.650000\n",
       "          Noise - Street/Sidewalk    204.676667\n",
       "Name: Request_Closing_Time, Length: 764, dtype: float64"
      ]
     },
     "execution_count": 35,
     "metadata": {},
     "output_type": "execute_result"
    }
   ],
   "source": [
    "nyc.groupby(['City','Complaint Type'])['Request_Closing_Time'].mean()"
   ]
  },
  {
   "cell_type": "code",
   "execution_count": 16,
   "id": "cdef74c0",
   "metadata": {
    "collapsed": true
   },
   "outputs": [],
   "source": [
    "complaint_top_10=nyc['Complaint Type'].value_counts()[:10]"
   ]
  },
  {
   "cell_type": "code",
   "execution_count": 17,
   "id": "6bed6c30",
   "metadata": {
    "collapsed": true
   },
   "outputs": [
    {
     "data": {
      "image/png": "[encoded data removed]",
      "text/plain": [
       "<Figure size 432x288 with 1 Axes>"
      ]
     },
     "metadata": {
      "needs_background": "light"
     },
     "output_type": "display_data"
    }
   ],
   "source": [
    "complaint_top_10.plot(kind='bar',title='Top 10 Complaint Tyes')\n",
    "plt.xlabel('Complaint Type')\n",
    "plt.ylabel('No. of Complaints')\n",
    "plt.show()"
   ]
  },
  {
   "cell_type": "code",
   "execution_count": 18,
   "id": "37a59660",
   "metadata": {
    "collapsed": true
   },
   "outputs": [],
   "source": [
    "top_complaint_location=nyc['Location Type'].value_counts()[:5]"
   ]
  },
  {
   "cell_type": "code",
   "execution_count": 19,
   "id": "a3455593",
   "metadata": {
    "collapsed": true
   },
   "outputs": [
    {
     "data": {
      "image/png": "[encoded data removed]",
      "text/plain": [
       "<Figure size 432x288 with 1 Axes>"
      ]
     },
     "metadata": {},
     "output_type": "display_data"
    }
   ],
   "source": [
    "top_complaint_location.plot(kind='pie',autopct='%1.1f%%',explode=[0,1,1,1,1])\n",
    "plt.title('Most Complaints from Locations')\n",
    "plt.show()"
   ]
  },
  {
   "cell_type": "code",
   "execution_count": 20,
   "id": "69e1cb54",
   "metadata": {
    "collapsed": true
   },
   "outputs": [],
   "source": [
    "top_cities=nyc['City'].value_counts()[:10].index\n",
    "complaint=nyc['Complaint Type'].value_counts()[:5].index"
   ]
  },
  {
   "cell_type": "code",
   "execution_count": 23,
   "id": "49be7fe9",
   "metadata": {
    "collapsed": true
   },
   "outputs": [
    {
     "data": {
      "image/png": "[encoded data removed]",
      "text/plain": [
       "<Figure size 432x288 with 1 Axes>"
      ]
     },
     "metadata": {},
     "output_type": "display_data"
    }
   ],
   "source": [
    "nyc['City'].value_counts()[:10].plot(kind='pie')\n",
    "plt.title('complaint no. in different city')\n",
    "plt.show()"
   ]
  },
  {
   "cell_type": "code",
   "execution_count": 24,
   "id": "2f0770dc",
   "metadata": {
    "collapsed": true
   },
   "outputs": [],
   "source": [
    "top_cities=top_cities.to_list()"
   ]
  },
  {
   "cell_type": "code",
   "execution_count": 25,
   "id": "b1ceac7e",
   "metadata": {
    "collapsed": true
   },
   "outputs": [],
   "source": [
    "complaint=complaint.to_list()"
   ]
  },
  {
   "cell_type": "code",
   "execution_count": 26,
   "id": "a54a0465",
   "metadata": {
    "collapsed": true
   },
   "outputs": [
    {
     "data": {
      "text/plain": [
       "['Blocked Driveway',\n",
       " 'Illegal Parking',\n",
       " 'Noise - Street/Sidewalk',\n",
       " 'Noise - Commercial',\n",
       " 'Derelict Vehicle']"
      ]
     },
     "execution_count": 26,
     "metadata": {},
     "output_type": "execute_result"
    }
   ],
   "source": [
    "complaint"
   ]
  },
  {
   "cell_type": "code",
   "execution_count": 27,
   "id": "2a50b92f",
   "metadata": {
    "collapsed": true
   },
   "outputs": [],
   "source": [
    "nyc['Complaint_Type']=nyc['Complaint Type']"
   ]
  },
  {
   "cell_type": "code",
   "execution_count": 28,
   "id": "5c2d9b43",
   "metadata": {
    "collapsed": true
   },
   "outputs": [],
   "source": [
    "l=nyc[(nyc.Complaint_Type.isin(complaint))&(nyc.City.isin(top_cities))]"
   ]
  },
  {
   "cell_type": "code",
   "execution_count": 29,
   "id": "a8bb2972",
   "metadata": {
    "collapsed": true
   },
   "outputs": [
    {
     "name": "stderr",
     "output_type": "stream",
     "text": [
      "C:\\Users\\dell\\AppData\\Local\\Temp/ipykernel_6288/2790627258.py:5: UserWarning: Boolean Series key will be reindexed to match DataFrame index.\n",
      "  lista.append(l[l['City']==i][l['Complaint Type']==j].shape[0])\n"
     ]
    }
   ],
   "source": [
    "listb=[]\n",
    "for i in top_cities:\n",
    "    lista=[i]\n",
    "    for j in complaint:\n",
    "       lista.append(l[l['City']==i][l['Complaint Type']==j].shape[0])\n",
    "    listb.append(lista)\n",
    "    "
   ]
  },
  {
   "cell_type": "code",
   "execution_count": 30,
   "id": "e7e9f7d8",
   "metadata": {
    "collapsed": true
   },
   "outputs": [
    {
     "data": {
      "text/plain": [
       "[['BROOKLYN', 28148, 27462, 13356, 11463, 5181],\n",
       " ['NEW YORK', 2072, 12128, 20433, 14550, 537],\n",
       " ['BRONX', 12755, 7859, 8892, 2434, 1953],\n",
       " ['STATEN ISLAND', 2142, 4886, 819, 678, 1766],\n",
       " ['JAMAICA', 2818, 1421, 339, 429, 954],\n",
       " ['ASTORIA', 2618, 1068, 386, 1293, 351],\n",
       " ['FLUSHING', 2795, 1829, 225, 175, 440],\n",
       " ['RIDGEWOOD', 1694, 1842, 433, 398, 330],\n",
       " ['CORONA', 2761, 660, 238, 248, 57],\n",
       " ['WOODSIDE', 1613, 891, 250, 209, 247]]"
      ]
     },
     "execution_count": 30,
     "metadata": {},
     "output_type": "execute_result"
    }
   ],
   "source": [
    "listb"
   ]
  },
  {
   "cell_type": "code",
   "execution_count": 31,
   "id": "0a835f1c",
   "metadata": {
    "collapsed": true
   },
   "outputs": [],
   "source": [
    "complaint.insert(0,'city')"
   ]
  },
  {
   "cell_type": "code",
   "execution_count": 32,
   "id": "83c796aa",
   "metadata": {
    "collapsed": true
   },
   "outputs": [],
   "source": [
    "ddf=pd.DataFrame(listb)"
   ]
  },
  {
   "cell_type": "code",
   "execution_count": 33,
   "id": "bea4f780",
   "metadata": {
    "collapsed": true
   },
   "outputs": [],
   "source": [
    "ddf.columns=complaint"
   ]
  },
  {
   "cell_type": "code",
   "execution_count": 34,
   "id": "8f482750",
   "metadata": {
    "collapsed": true
   },
   "outputs": [
    {
     "data": {
      "image/png": "[encoded data removed]",
      "text/plain": [
       "<Figure size 432x288 with 1 Axes>"
      ]
     },
     "metadata": {
      "needs_background": "light"
     },
     "output_type": "display_data"
    }
   ],
   "source": [
    "p=ddf.plot(x='city',kind='bar',stacked=True,title='Complaint type in each city')\n",
    "plt.show()"
   ]
  },
  {
   "cell_type": "markdown",
   "id": "1983e44d",
   "metadata": {},
   "source": [
    "### TEST1"
   ]
  },
  {
   "cell_type": "markdown",
   "id": "6390b46e",
   "metadata": {},
   "source": [
    "#Null hypothesis-- H0--> the average response time in days is same for different complaint types.\n",
    "#Alternate hypothesis-- H1--> the average response time in days is not same for different complaint types."
   ]
  },
  {
   "cell_type": "code",
   "execution_count": 36,
   "id": "7c947149",
   "metadata": {
    "collapsed": true
   },
   "outputs": [],
   "source": [
    "#dataframe for top 5 complaints\n",
    "df1=nyc[nyc['Complaint Type']=='Blocked Driveway']\n",
    "df2=nyc[nyc['Complaint Type']=='Illegal Parking']\n",
    "df3=nyc[nyc['Complaint Type']=='Noise - Street/Sidewalk']\n",
    "df4=nyc[nyc['Complaint Type']=='Noise - Commercial']\n",
    "df5=nyc[nyc['Complaint Type']=='Derelict Vehicle']"
   ]
  },
  {
   "cell_type": "code",
   "execution_count": 39,
   "id": "115e1320",
   "metadata": {
    "collapsed": true
   },
   "outputs": [],
   "source": [
    "r1=df1['Request_Closing_Time'].dropna()\n",
    "r2=df2['Request_Closing_Time'].dropna()\n",
    "r3=df3['Request_Closing_Time'].dropna()\n",
    "r4=df4['Request_Closing_Time'].dropna()\n",
    "r5=df5['Request_Closing_Time'].dropna()\n"
   ]
  },
  {
   "cell_type": "code",
   "execution_count": 41,
   "id": "174713f0",
   "metadata": {
    "collapsed": true
   },
   "outputs": [],
   "source": [
    "import scipy.stats as stat"
   ]
  },
  {
   "cell_type": "code",
   "execution_count": 42,
   "id": "8486a14a",
   "metadata": {
    "collapsed": true
   },
   "outputs": [
    {
     "data": {
      "text/plain": [
       "F_onewayResult(statistic=2052.843483423452, pvalue=0.0)"
      ]
     },
     "execution_count": 42,
     "metadata": {},
     "output_type": "execute_result"
    }
   ],
   "source": [
    "stat.f_oneway(r1,r2,r3,r4,r5)  #annova test"
   ]
  },
  {
   "cell_type": "markdown",
   "id": "62490f90",
   "metadata": {},
   "source": [
    "Null Hypothesis is Rejected as pvalue is zero(apprx)."
   ]
  },
  {
   "cell_type": "code",
   "execution_count": 44,
   "id": "ad452edd",
   "metadata": {
    "collapsed": true
   },
   "outputs": [],
   "source": [
    "city_top5=nyc[nyc['Complaint Type'].isin(nyc['Complaint Type'].value_counts()[:5].index)]"
   ]
  },
  {
   "cell_type": "code",
   "execution_count": 45,
   "id": "418295c2",
   "metadata": {
    "collapsed": true
   },
   "outputs": [],
   "source": [
    "city_comp=pd.crosstab(city_top5['City'],city_top5['Complaint Type'])"
   ]
  },
  {
   "cell_type": "code",
   "execution_count": 46,
   "id": "2c70060b",
   "metadata": {
    "collapsed": true
   },
   "outputs": [
    {
     "data": {
      "text/html": [
       "<div>\n",
       "<style scoped>\n",
       "    .dataframe tbody tr th:only-of-type {\n",
       "        vertical-align: middle;\n",
       "    }\n",
       "\n",
       "    .dataframe tbody tr th {\n",
       "        vertical-align: top;\n",
       "    }\n",
       "\n",
       "    .dataframe thead th {\n",
       "        text-align: right;\n",
       "    }\n",
       "</style>\n",
       "<table border=\"1\" class=\"dataframe\">\n",
       "  <thead>\n",
       "    <tr style=\"text-align: right;\">\n",
       "      <th>Complaint Type</th>\n",
       "      <th>Blocked Driveway</th>\n",
       "      <th>Derelict Vehicle</th>\n",
       "      <th>Illegal Parking</th>\n",
       "      <th>Noise - Commercial</th>\n",
       "      <th>Noise - Street/Sidewalk</th>\n",
       "    </tr>\n",
       "    <tr>\n",
       "      <th>City</th>\n",
       "      <th></th>\n",
       "      <th></th>\n",
       "      <th></th>\n",
       "      <th></th>\n",
       "      <th></th>\n",
       "    </tr>\n",
       "  </thead>\n",
       "  <tbody>\n",
       "    <tr>\n",
       "      <th>ARVERNE</th>\n",
       "      <td>35</td>\n",
       "      <td>27</td>\n",
       "      <td>58</td>\n",
       "      <td>2</td>\n",
       "      <td>29</td>\n",
       "    </tr>\n",
       "    <tr>\n",
       "      <th>ASTORIA</th>\n",
       "      <td>2618</td>\n",
       "      <td>351</td>\n",
       "      <td>1068</td>\n",
       "      <td>1293</td>\n",
       "      <td>386</td>\n",
       "    </tr>\n",
       "    <tr>\n",
       "      <th>Astoria</th>\n",
       "      <td>116</td>\n",
       "      <td>12</td>\n",
       "      <td>213</td>\n",
       "      <td>262</td>\n",
       "      <td>114</td>\n",
       "    </tr>\n",
       "    <tr>\n",
       "      <th>BAYSIDE</th>\n",
       "      <td>377</td>\n",
       "      <td>198</td>\n",
       "      <td>514</td>\n",
       "      <td>40</td>\n",
       "      <td>15</td>\n",
       "    </tr>\n",
       "    <tr>\n",
       "      <th>BELLEROSE</th>\n",
       "      <td>95</td>\n",
       "      <td>89</td>\n",
       "      <td>106</td>\n",
       "      <td>37</td>\n",
       "      <td>13</td>\n",
       "    </tr>\n",
       "    <tr>\n",
       "      <th>BREEZY POINT</th>\n",
       "      <td>3</td>\n",
       "      <td>3</td>\n",
       "      <td>15</td>\n",
       "      <td>4</td>\n",
       "      <td>1</td>\n",
       "    </tr>\n",
       "    <tr>\n",
       "      <th>BRONX</th>\n",
       "      <td>12755</td>\n",
       "      <td>1953</td>\n",
       "      <td>7859</td>\n",
       "      <td>2434</td>\n",
       "      <td>8892</td>\n",
       "    </tr>\n",
       "    <tr>\n",
       "      <th>BROOKLYN</th>\n",
       "      <td>28148</td>\n",
       "      <td>5181</td>\n",
       "      <td>27462</td>\n",
       "      <td>11463</td>\n",
       "      <td>13356</td>\n",
       "    </tr>\n",
       "    <tr>\n",
       "      <th>CAMBRIA HEIGHTS</th>\n",
       "      <td>147</td>\n",
       "      <td>115</td>\n",
       "      <td>76</td>\n",
       "      <td>12</td>\n",
       "      <td>25</td>\n",
       "    </tr>\n",
       "    <tr>\n",
       "      <th>CENTRAL PARK</th>\n",
       "      <td>0</td>\n",
       "      <td>0</td>\n",
       "      <td>2</td>\n",
       "      <td>0</td>\n",
       "      <td>95</td>\n",
       "    </tr>\n",
       "    <tr>\n",
       "      <th>COLLEGE POINT</th>\n",
       "      <td>435</td>\n",
       "      <td>184</td>\n",
       "      <td>352</td>\n",
       "      <td>35</td>\n",
       "      <td>33</td>\n",
       "    </tr>\n",
       "    <tr>\n",
       "      <th>CORONA</th>\n",
       "      <td>2761</td>\n",
       "      <td>57</td>\n",
       "      <td>660</td>\n",
       "      <td>248</td>\n",
       "      <td>238</td>\n",
       "    </tr>\n",
       "    <tr>\n",
       "      <th>EAST ELMHURST</th>\n",
       "      <td>1408</td>\n",
       "      <td>113</td>\n",
       "      <td>877</td>\n",
       "      <td>35</td>\n",
       "      <td>107</td>\n",
       "    </tr>\n",
       "    <tr>\n",
       "      <th>ELMHURST</th>\n",
       "      <td>1446</td>\n",
       "      <td>78</td>\n",
       "      <td>621</td>\n",
       "      <td>81</td>\n",
       "      <td>224</td>\n",
       "    </tr>\n",
       "    <tr>\n",
       "      <th>East Elmhurst</th>\n",
       "      <td>0</td>\n",
       "      <td>1</td>\n",
       "      <td>13</td>\n",
       "      <td>0</td>\n",
       "      <td>0</td>\n",
       "    </tr>\n",
       "    <tr>\n",
       "      <th>FAR ROCKAWAY</th>\n",
       "      <td>284</td>\n",
       "      <td>187</td>\n",
       "      <td>295</td>\n",
       "      <td>48</td>\n",
       "      <td>136</td>\n",
       "    </tr>\n",
       "    <tr>\n",
       "      <th>FLORAL PARK</th>\n",
       "      <td>20</td>\n",
       "      <td>56</td>\n",
       "      <td>64</td>\n",
       "      <td>3</td>\n",
       "      <td>3</td>\n",
       "    </tr>\n",
       "    <tr>\n",
       "      <th>FLUSHING</th>\n",
       "      <td>2795</td>\n",
       "      <td>440</td>\n",
       "      <td>1829</td>\n",
       "      <td>175</td>\n",
       "      <td>225</td>\n",
       "    </tr>\n",
       "    <tr>\n",
       "      <th>FOREST HILLS</th>\n",
       "      <td>663</td>\n",
       "      <td>52</td>\n",
       "      <td>505</td>\n",
       "      <td>141</td>\n",
       "      <td>95</td>\n",
       "    </tr>\n",
       "    <tr>\n",
       "      <th>FRESH MEADOWS</th>\n",
       "      <td>503</td>\n",
       "      <td>291</td>\n",
       "      <td>885</td>\n",
       "      <td>14</td>\n",
       "      <td>42</td>\n",
       "    </tr>\n",
       "    <tr>\n",
       "      <th>GLEN OAKS</th>\n",
       "      <td>30</td>\n",
       "      <td>49</td>\n",
       "      <td>74</td>\n",
       "      <td>78</td>\n",
       "      <td>6</td>\n",
       "    </tr>\n",
       "    <tr>\n",
       "      <th>HOLLIS</th>\n",
       "      <td>342</td>\n",
       "      <td>143</td>\n",
       "      <td>151</td>\n",
       "      <td>25</td>\n",
       "      <td>41</td>\n",
       "    </tr>\n",
       "    <tr>\n",
       "      <th>HOWARD BEACH</th>\n",
       "      <td>167</td>\n",
       "      <td>138</td>\n",
       "      <td>281</td>\n",
       "      <td>258</td>\n",
       "      <td>21</td>\n",
       "    </tr>\n",
       "    <tr>\n",
       "      <th>Howard Beach</th>\n",
       "      <td>1</td>\n",
       "      <td>0</td>\n",
       "      <td>0</td>\n",
       "      <td>0</td>\n",
       "      <td>0</td>\n",
       "    </tr>\n",
       "    <tr>\n",
       "      <th>JACKSON HEIGHTS</th>\n",
       "      <td>568</td>\n",
       "      <td>29</td>\n",
       "      <td>184</td>\n",
       "      <td>463</td>\n",
       "      <td>217</td>\n",
       "    </tr>\n",
       "    <tr>\n",
       "      <th>JAMAICA</th>\n",
       "      <td>2818</td>\n",
       "      <td>954</td>\n",
       "      <td>1421</td>\n",
       "      <td>429</td>\n",
       "      <td>339</td>\n",
       "    </tr>\n",
       "    <tr>\n",
       "      <th>KEW GARDENS</th>\n",
       "      <td>313</td>\n",
       "      <td>14</td>\n",
       "      <td>212</td>\n",
       "      <td>164</td>\n",
       "      <td>10</td>\n",
       "    </tr>\n",
       "    <tr>\n",
       "      <th>LITTLE NECK</th>\n",
       "      <td>121</td>\n",
       "      <td>61</td>\n",
       "      <td>249</td>\n",
       "      <td>76</td>\n",
       "      <td>8</td>\n",
       "    </tr>\n",
       "    <tr>\n",
       "      <th>LONG ISLAND CITY</th>\n",
       "      <td>772</td>\n",
       "      <td>195</td>\n",
       "      <td>795</td>\n",
       "      <td>230</td>\n",
       "      <td>123</td>\n",
       "    </tr>\n",
       "    <tr>\n",
       "      <th>Long Island City</th>\n",
       "      <td>34</td>\n",
       "      <td>4</td>\n",
       "      <td>52</td>\n",
       "      <td>18</td>\n",
       "      <td>26</td>\n",
       "    </tr>\n",
       "    <tr>\n",
       "      <th>MASPETH</th>\n",
       "      <td>732</td>\n",
       "      <td>434</td>\n",
       "      <td>976</td>\n",
       "      <td>53</td>\n",
       "      <td>121</td>\n",
       "    </tr>\n",
       "    <tr>\n",
       "      <th>MIDDLE VILLAGE</th>\n",
       "      <td>457</td>\n",
       "      <td>296</td>\n",
       "      <td>877</td>\n",
       "      <td>10</td>\n",
       "      <td>37</td>\n",
       "    </tr>\n",
       "    <tr>\n",
       "      <th>NEW HYDE PARK</th>\n",
       "      <td>53</td>\n",
       "      <td>14</td>\n",
       "      <td>28</td>\n",
       "      <td>0</td>\n",
       "      <td>0</td>\n",
       "    </tr>\n",
       "    <tr>\n",
       "      <th>NEW YORK</th>\n",
       "      <td>2072</td>\n",
       "      <td>537</td>\n",
       "      <td>12128</td>\n",
       "      <td>14550</td>\n",
       "      <td>20433</td>\n",
       "    </tr>\n",
       "    <tr>\n",
       "      <th>OAKLAND GARDENS</th>\n",
       "      <td>132</td>\n",
       "      <td>86</td>\n",
       "      <td>263</td>\n",
       "      <td>0</td>\n",
       "      <td>19</td>\n",
       "    </tr>\n",
       "    <tr>\n",
       "      <th>OZONE PARK</th>\n",
       "      <td>1259</td>\n",
       "      <td>420</td>\n",
       "      <td>619</td>\n",
       "      <td>115</td>\n",
       "      <td>137</td>\n",
       "    </tr>\n",
       "    <tr>\n",
       "      <th>QUEENS</th>\n",
       "      <td>2</td>\n",
       "      <td>1</td>\n",
       "      <td>8</td>\n",
       "      <td>6</td>\n",
       "      <td>6</td>\n",
       "    </tr>\n",
       "    <tr>\n",
       "      <th>QUEENS VILLAGE</th>\n",
       "      <td>585</td>\n",
       "      <td>370</td>\n",
       "      <td>578</td>\n",
       "      <td>43</td>\n",
       "      <td>66</td>\n",
       "    </tr>\n",
       "    <tr>\n",
       "      <th>REGO PARK</th>\n",
       "      <td>611</td>\n",
       "      <td>81</td>\n",
       "      <td>537</td>\n",
       "      <td>79</td>\n",
       "      <td>57</td>\n",
       "    </tr>\n",
       "    <tr>\n",
       "      <th>RICHMOND HILL</th>\n",
       "      <td>872</td>\n",
       "      <td>167</td>\n",
       "      <td>394</td>\n",
       "      <td>216</td>\n",
       "      <td>87</td>\n",
       "    </tr>\n",
       "    <tr>\n",
       "      <th>RIDGEWOOD</th>\n",
       "      <td>1694</td>\n",
       "      <td>330</td>\n",
       "      <td>1842</td>\n",
       "      <td>398</td>\n",
       "      <td>433</td>\n",
       "    </tr>\n",
       "    <tr>\n",
       "      <th>ROCKAWAY PARK</th>\n",
       "      <td>70</td>\n",
       "      <td>9</td>\n",
       "      <td>317</td>\n",
       "      <td>63</td>\n",
       "      <td>189</td>\n",
       "    </tr>\n",
       "    <tr>\n",
       "      <th>ROSEDALE</th>\n",
       "      <td>211</td>\n",
       "      <td>208</td>\n",
       "      <td>277</td>\n",
       "      <td>25</td>\n",
       "      <td>24</td>\n",
       "    </tr>\n",
       "    <tr>\n",
       "      <th>SAINT ALBANS</th>\n",
       "      <td>244</td>\n",
       "      <td>202</td>\n",
       "      <td>181</td>\n",
       "      <td>29</td>\n",
       "      <td>79</td>\n",
       "    </tr>\n",
       "    <tr>\n",
       "      <th>SOUTH OZONE PARK</th>\n",
       "      <td>942</td>\n",
       "      <td>358</td>\n",
       "      <td>494</td>\n",
       "      <td>70</td>\n",
       "      <td>105</td>\n",
       "    </tr>\n",
       "    <tr>\n",
       "      <th>SOUTH RICHMOND HILL</th>\n",
       "      <td>1548</td>\n",
       "      <td>289</td>\n",
       "      <td>462</td>\n",
       "      <td>198</td>\n",
       "      <td>91</td>\n",
       "    </tr>\n",
       "    <tr>\n",
       "      <th>SPRINGFIELD GARDENS</th>\n",
       "      <td>262</td>\n",
       "      <td>210</td>\n",
       "      <td>238</td>\n",
       "      <td>36</td>\n",
       "      <td>38</td>\n",
       "    </tr>\n",
       "    <tr>\n",
       "      <th>STATEN ISLAND</th>\n",
       "      <td>2142</td>\n",
       "      <td>1766</td>\n",
       "      <td>4886</td>\n",
       "      <td>678</td>\n",
       "      <td>819</td>\n",
       "    </tr>\n",
       "    <tr>\n",
       "      <th>SUNNYSIDE</th>\n",
       "      <td>206</td>\n",
       "      <td>10</td>\n",
       "      <td>122</td>\n",
       "      <td>161</td>\n",
       "      <td>65</td>\n",
       "    </tr>\n",
       "    <tr>\n",
       "      <th>WHITESTONE</th>\n",
       "      <td>208</td>\n",
       "      <td>227</td>\n",
       "      <td>525</td>\n",
       "      <td>16</td>\n",
       "      <td>33</td>\n",
       "    </tr>\n",
       "    <tr>\n",
       "      <th>WOODHAVEN</th>\n",
       "      <td>1060</td>\n",
       "      <td>308</td>\n",
       "      <td>682</td>\n",
       "      <td>175</td>\n",
       "      <td>86</td>\n",
       "    </tr>\n",
       "    <tr>\n",
       "      <th>WOODSIDE</th>\n",
       "      <td>1613</td>\n",
       "      <td>247</td>\n",
       "      <td>891</td>\n",
       "      <td>209</td>\n",
       "      <td>250</td>\n",
       "    </tr>\n",
       "    <tr>\n",
       "      <th>Woodside</th>\n",
       "      <td>11</td>\n",
       "      <td>2</td>\n",
       "      <td>100</td>\n",
       "      <td>2</td>\n",
       "      <td>5</td>\n",
       "    </tr>\n",
       "  </tbody>\n",
       "</table>\n",
       "</div>"
      ],
      "text/plain": [
       "Complaint Type       Blocked Driveway  Derelict Vehicle  Illegal Parking  \\\n",
       "City                                                                       \n",
       "ARVERNE                            35                27               58   \n",
       "ASTORIA                          2618               351             1068   \n",
       "Astoria                           116                12              213   \n",
       "BAYSIDE                           377               198              514   \n",
       "BELLEROSE                          95                89              106   \n",
       "BREEZY POINT                        3                 3               15   \n",
       "BRONX                           12755              1953             7859   \n",
       "BROOKLYN                        28148              5181            27462   \n",
       "CAMBRIA HEIGHTS                   147               115               76   \n",
       "CENTRAL PARK                        0                 0                2   \n",
       "COLLEGE POINT                     435               184              352   \n",
       "CORONA                           2761                57              660   \n",
       "EAST ELMHURST                    1408               113              877   \n",
       "ELMHURST                         1446                78              621   \n",
       "East Elmhurst                       0                 1               13   \n",
       "FAR ROCKAWAY                      284               187              295   \n",
       "FLORAL PARK                        20                56               64   \n",
       "FLUSHING                         2795               440             1829   \n",
       "FOREST HILLS                      663                52              505   \n",
       "FRESH MEADOWS                     503               291              885   \n",
       "GLEN OAKS                          30                49               74   \n",
       "HOLLIS                            342               143              151   \n",
       "HOWARD BEACH                      167               138              281   \n",
       "Howard Beach                        1                 0                0   \n",
       "JACKSON HEIGHTS                   568                29              184   \n",
       "JAMAICA                          2818               954             1421   \n",
       "KEW GARDENS                       313                14              212   \n",
       "LITTLE NECK                       121                61              249   \n",
       "LONG ISLAND CITY                  772               195              795   \n",
       "Long Island City                   34                 4               52   \n",
       "MASPETH                           732               434              976   \n",
       "MIDDLE VILLAGE                    457               296              877   \n",
       "NEW HYDE PARK                      53                14               28   \n",
       "NEW YORK                         2072               537            12128   \n",
       "OAKLAND GARDENS                   132                86              263   \n",
       "OZONE PARK                       1259               420              619   \n",
       "QUEENS                              2                 1                8   \n",
       "QUEENS VILLAGE                    585               370              578   \n",
       "REGO PARK                         611                81              537   \n",
       "RICHMOND HILL                     872               167              394   \n",
       "RIDGEWOOD                        1694               330             1842   \n",
       "ROCKAWAY PARK                      70                 9              317   \n",
       "ROSEDALE                          211               208              277   \n",
       "SAINT ALBANS                      244               202              181   \n",
       "SOUTH OZONE PARK                  942               358              494   \n",
       "SOUTH RICHMOND HILL              1548               289              462   \n",
       "SPRINGFIELD GARDENS               262               210              238   \n",
       "STATEN ISLAND                    2142              1766             4886   \n",
       "SUNNYSIDE                         206                10              122   \n",
       "WHITESTONE                        208               227              525   \n",
       "WOODHAVEN                        1060               308              682   \n",
       "WOODSIDE                         1613               247              891   \n",
       "Woodside                           11                 2              100   \n",
       "\n",
       "Complaint Type       Noise - Commercial  Noise - Street/Sidewalk  \n",
       "City                                                              \n",
       "ARVERNE                               2                       29  \n",
       "ASTORIA                            1293                      386  \n",
       "Astoria                             262                      114  \n",
       "BAYSIDE                              40                       15  \n",
       "BELLEROSE                            37                       13  \n",
       "BREEZY POINT                          4                        1  \n",
       "BRONX                              2434                     8892  \n",
       "BROOKLYN                          11463                    13356  \n",
       "CAMBRIA HEIGHTS                      12                       25  \n",
       "CENTRAL PARK                          0                       95  \n",
       "COLLEGE POINT                        35                       33  \n",
       "CORONA                              248                      238  \n",
       "EAST ELMHURST                        35                      107  \n",
       "ELMHURST                             81                      224  \n",
       "East Elmhurst                         0                        0  \n",
       "FAR ROCKAWAY                         48                      136  \n",
       "FLORAL PARK                           3                        3  \n",
       "FLUSHING                            175                      225  \n",
       "FOREST HILLS                        141                       95  \n",
       "FRESH MEADOWS                        14                       42  \n",
       "GLEN OAKS                            78                        6  \n",
       "HOLLIS                               25                       41  \n",
       "HOWARD BEACH                        258                       21  \n",
       "Howard Beach                          0                        0  \n",
       "JACKSON HEIGHTS                     463                      217  \n",
       "JAMAICA                             429                      339  \n",
       "KEW GARDENS                         164                       10  \n",
       "LITTLE NECK                          76                        8  \n",
       "LONG ISLAND CITY                    230                      123  \n",
       "Long Island City                     18                       26  \n",
       "MASPETH                              53                      121  \n",
       "MIDDLE VILLAGE                       10                       37  \n",
       "NEW HYDE PARK                         0                        0  \n",
       "NEW YORK                          14550                    20433  \n",
       "OAKLAND GARDENS                       0                       19  \n",
       "OZONE PARK                          115                      137  \n",
       "QUEENS                                6                        6  \n",
       "QUEENS VILLAGE                       43                       66  \n",
       "REGO PARK                            79                       57  \n",
       "RICHMOND HILL                       216                       87  \n",
       "RIDGEWOOD                           398                      433  \n",
       "ROCKAWAY PARK                        63                      189  \n",
       "ROSEDALE                             25                       24  \n",
       "SAINT ALBANS                         29                       79  \n",
       "SOUTH OZONE PARK                     70                      105  \n",
       "SOUTH RICHMOND HILL                 198                       91  \n",
       "SPRINGFIELD GARDENS                  36                       38  \n",
       "STATEN ISLAND                       678                      819  \n",
       "SUNNYSIDE                           161                       65  \n",
       "WHITESTONE                           16                       33  \n",
       "WOODHAVEN                           175                       86  \n",
       "WOODSIDE                            209                      250  \n",
       "Woodside                              2                        5  "
      ]
     },
     "execution_count": 46,
     "metadata": {},
     "output_type": "execute_result"
    }
   ],
   "source": [
    "city_comp"
   ]
  },
  {
   "cell_type": "code",
   "execution_count": null,
   "id": "7d2a2df9",
   "metadata": {
    "collapsed": true
   },
   "outputs": [],
   "source": [
    "# Chi square test is for finding relation between categorical values(city and complaint type)\n",
    "\n",
    "# h0: the city and the complaint type is independent of each other\n",
    "\n",
    "# ha: the city and the complaint type is not independent of each other"
   ]
  },
  {
   "cell_type": "code",
   "execution_count": 47,
   "id": "82bb1e7f",
   "metadata": {
    "collapsed": true
   },
   "outputs": [],
   "source": [
    "chi2_stats,pvalue,df,mean_val=stats.chi2_contingency(city_comp)"
   ]
  },
  {
   "cell_type": "code",
   "execution_count": 48,
   "id": "e47fe672",
   "metadata": {
    "collapsed": true
   },
   "outputs": [
    {
     "data": {
      "text/plain": [
       "72968.04166267907"
      ]
     },
     "execution_count": 48,
     "metadata": {},
     "output_type": "execute_result"
    }
   ],
   "source": [
    "chi2_stats"
   ]
  },
  {
   "cell_type": "code",
   "execution_count": 49,
   "id": "5507e097",
   "metadata": {
    "collapsed": true
   },
   "outputs": [
    {
     "data": {
      "text/plain": [
       "208"
      ]
     },
     "execution_count": 49,
     "metadata": {},
     "output_type": "execute_result"
    }
   ],
   "source": [
    "df"
   ]
  },
  {
   "cell_type": "code",
   "execution_count": 52,
   "id": "b4f3d087",
   "metadata": {
    "collapsed": true
   },
   "outputs": [
    {
     "data": {
      "text/plain": [
       "0.0"
      ]
     },
     "execution_count": 52,
     "metadata": {},
     "output_type": "execute_result"
    }
   ],
   "source": [
    "pvalue"
   ]
  },
  {
   "cell_type": "markdown",
   "id": "3564a6da",
   "metadata": {},
   "source": [
    "## null hypothesis is rejected\n",
    "## it means that, the 'city' and the 'complaint type' is not independent of each other."
   ]
  },
  {
   "cell_type": "code",
   "execution_count": null,
   "id": "e3723d77",
   "metadata": {
    "collapsed": true
   },
   "outputs": [],
   "source": []
  }
 ],
 "metadata": {
  "kernelspec": {
   "display_name": "Python 3 (ipykernel)",
   "language": "python",
   "name": "python3"
  },
  "language_info": {
   "codemirror_mode": {
    "name": "ipython",
    "version": 3
   },
   "file_extension": ".py",
   "mimetype": "text/x-python",
   "name": "python",
   "nbconvert_exporter": "python",
   "pygments_lexer": "ipython3",
   "version": "3.9.7"
  }
 },
 "nbformat": 4,
 "nbformat_minor": 5
}
